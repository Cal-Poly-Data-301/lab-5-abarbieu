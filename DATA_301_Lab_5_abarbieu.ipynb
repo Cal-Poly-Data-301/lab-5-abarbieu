{
  "nbformat": 4,
  "nbformat_minor": 0,
  "metadata": {
    "kernelspec": {
      "display_name": "Python 3",
      "language": "python",
      "name": "python3"
    },
    "language_info": {
      "codemirror_mode": {
        "name": "ipython",
        "version": 3
      },
      "file_extension": ".py",
      "mimetype": "text/x-python",
      "name": "python",
      "nbconvert_exporter": "python",
      "pygments_lexer": "ipython3",
      "version": "3.6.8"
    },
    "colab": {
      "name": "DATA 301 Lab 5 - abarbieu",
      "provenance": [],
      "collapsed_sections": [],
      "include_colab_link": true
    }
  },
  "cells": [
    {
      "cell_type": "markdown",
      "metadata": {
        "id": "view-in-github",
        "colab_type": "text"
      },
      "source": [
        "<a href=\"https://colab.research.google.com/github/Cal-Poly-Data-301/lab-5-abarbieu/blob/main/DATA_301_Lab_5_abarbieu.ipynb\" target=\"_parent\"><img src=\"https://colab.research.google.com/assets/colab-badge.svg\" alt=\"Open In Colab\"/></a>"
      ]
    },
    {
      "cell_type": "markdown",
      "metadata": {
        "id": "iG3X1KFIBLUK"
      },
      "source": [
        "# Authorship of the Federalist Papers\n",
        "\n",
        "The _Federalist Papers_ were a set of 85 essays published between 1787 and 1788 to promote the ratification of the United States Constitution. They were originally published under the pseudonym \"Publius\". Although the identity of the authors was a closely guarded secret at the time, most of the papers have since been conclusively attributed to one of Hamilton, Jay, or Madison. The known authorships can be found in `https://dlsun.github.io/pods/data/federalist/authorship.csv`.\n",
        "\n",
        "For 15 of the papers, however, the authorships remain disputed. (These papers can be identified from the `authorship.csv` file because the \"Author\" field is blank.) In this analysis, you will use the papers with known authorship to predict the authorships of the disputed papers. The text of each paper is available at `https://dlsun.github.io/pods/data/federalist/x.txt`, where `x` is the number of the paper (i.e., a number from 1 to 85). The name of the file indicates the number of the paper."
      ]
    },
    {
      "cell_type": "markdown",
      "metadata": {
        "id": "8YRe6SB3BLUN"
      },
      "source": [
        "## Question 1\n",
        "\n",
        "When analyzing an author's style, common words like \"the\" and \"on\" are actually more useful than rare words like \"hostilities\". That is because rare words typically signify context. Context is useful if you are trying to find documents about similar topics, but not so useful if you are trying to identify an author's style because different authors can write about the same topic. For example, both Dr. Seuss and Charles Dickens used rare words like \"chimney\" and \"stockings\" in _How the Grinch Stole Christmas_ and _A Christmas Carol_, respectively. But they used common words very differently: Dickens used the word \"upon\" over 100 times, while Dr. Seuss did not use \"upon\" even once.\n",
        "\n",
        "Read in the Federalist Papers. Convert each one into a vector of term frequencies. In order to restrict to common words, include only the top 50 words across the corpus. (Because we are restricting to the most common words already, there is no reason to reweight them using TF-IDF.)"
      ]
    },
    {
      "cell_type": "code",
      "source": [
        "import pandas as pd\n",
        "import requests\n",
        "import numpy as np\n",
        "\n",
        "auth = pd.read_csv(\"https://dlsun.github.io/pods/data/federalist/authorship.csv\")\n",
        "\n",
        "paperdir=\"https://dlsun.github.io/pods/data/federalist/\"\n",
        "\n",
        "papers = pd.Series()\n",
        "for p in auth.Paper:\n",
        "  papers[f\"{p}\"] = requests.get(paperdir+f\"{p}.txt\").text "
      ],
      "metadata": {
        "id": "8b2-Eu9fytqI",
        "colab": {
          "base_uri": "https://localhost:8080/"
        },
        "outputId": "3e59ad3a-d14c-44c8-fc4b-02c93d5f67bc"
      },
      "execution_count": 159,
      "outputs": [
        {
          "output_type": "stream",
          "name": "stderr",
          "text": [
            "/usr/local/lib/python3.7/dist-packages/ipykernel_launcher.py:9: DeprecationWarning: The default dtype for empty Series will be 'object' instead of 'float64' in a future version. Specify a dtype explicitly to silence this warning.\n",
            "  if __name__ == '__main__':\n"
          ]
        }
      ]
    },
    {
      "cell_type": "code",
      "source": [
        "from sklearn.feature_extraction.text import CountVectorizer\n",
        "\n",
        "extractor = CountVectorizer()\n",
        "vect = extractor.fit_transform(papers)"
      ],
      "metadata": {
        "id": "WAcANZZfku9g"
      },
      "execution_count": 160,
      "outputs": []
    },
    {
      "cell_type": "code",
      "source": [
        "top50 = vect.sum(axis=0).argsort()[0,-50:]\n",
        "top50_words = extractor.get_feature_names_out()[top50]\n",
        "top50_vect = vect.toarray()[:,top50[0]].reshape((85,50))\n",
        "top50_vect, top50_words"
      ],
      "metadata": {
        "colab": {
          "base_uri": "https://localhost:8080/"
        },
        "id": "ZzGzp7tonnci",
        "outputId": "7d85dc1f-4c87-4653-8c97-120595c547ea"
      },
      "execution_count": 161,
      "outputs": [
        {
          "output_type": "execute_result",
          "data": {
            "text/plain": [
              "(array([[  8,   8,   3, ...,  72, 106, 133],\n",
              "        [  5,   0,   0, ...,  53,  83, 107],\n",
              "        [  0,   0,   3, ...,  56,  62,  93],\n",
              "        ...,\n",
              "        [  5,  13,   6, ..., 219, 331, 485],\n",
              "        [ 11,  28,  11, ..., 140, 293, 390],\n",
              "        [  4,  13,  10, ..., 115, 172, 246]]),\n",
              " array([['we', 'constitution', 'can', 'those', 'no', 'any', 'one', 'them',\n",
              "         'than', 'if', 'at', 'more', 'has', 'power', 'people', 'other',\n",
              "         'its', 'but', 'all', 'state', 'been', 'may', 'government',\n",
              "         'states', 'an', 'they', 'on', 'are', 'from', 'with', 'their',\n",
              "         'not', 'or', 'for', 'will', 'have', 'would', 'this', 'as', 'by',\n",
              "         'which', 'is', 'it', 'that', 'be', 'in', 'and', 'to', 'of',\n",
              "         'the']], dtype=object))"
            ]
          },
          "metadata": {},
          "execution_count": 161
        }
      ]
    },
    {
      "cell_type": "markdown",
      "metadata": {
        "id": "bDLgJQtaHljA"
      },
      "source": [
        "## Question 2\n",
        "Make a visualization that summarizes the most common words used by Hamilton, Madison, and Jay."
      ]
    },
    {
      "cell_type": "code",
      "source": [
        "top50_ham = top50_vect[auth[auth.Author == \"Hamilton\"].index].sum(axis = 0)\n",
        "top50_mad = top50_vect[auth[auth.Author == \"Madison\"].index].sum(axis = 0)\n",
        "top50_jay = top50_vect[auth[auth.Author == \"Jay\"].index].sum(axis = 0)\n",
        "topwordsdf = pd.DataFrame({\"Hamilton\": top50_ham, \"Madison\": top50_mad, \"Jay\": top50_jay})"
      ],
      "metadata": {
        "id": "CDvWfxait5gf"
      },
      "execution_count": 162,
      "outputs": []
    },
    {
      "cell_type": "code",
      "source": [
        "import altair as alt\n",
        "toplot = pd.melt(topwordsdf.reset_index(), id_vars='index', value_vars=['Hamilton', 'Madison', 'Jay'])\n",
        "# toplot.groupby(\"variable\").plot.line(x=\"index\",y=\"value\")\n",
        "alt.Chart(toplot.reset_index()).mark_line().encode(\n",
        "    x=\"index:Q\",\n",
        "    y=\"value:Q\",\n",
        "    color=\"variable\"\n",
        ")"
      ],
      "metadata": {
        "colab": {
          "base_uri": "https://localhost:8080/",
          "height": 369
        },
        "id": "_Mi0gzpLz_N2",
        "outputId": "b40b0b4a-97ae-45bf-d4f9-2798fa4cba43"
      },
      "execution_count": 163,
      "outputs": [
        {
          "output_type": "execute_result",
          "data": {
            "text/plain": [
              "alt.Chart(...)"
            ],
            "text/html": [
              "\n",
              "<div id=\"altair-viz-892d4e5c07244ff194d9092c0244a88f\"></div>\n",
              "<script type=\"text/javascript\">\n",
              "  var VEGA_DEBUG = (typeof VEGA_DEBUG == \"undefined\") ? {} : VEGA_DEBUG;\n",
              "  (function(spec, embedOpt){\n",
              "    let outputDiv = document.currentScript.previousElementSibling;\n",
              "    if (outputDiv.id !== \"altair-viz-892d4e5c07244ff194d9092c0244a88f\") {\n",
              "      outputDiv = document.getElementById(\"altair-viz-892d4e5c07244ff194d9092c0244a88f\");\n",
              "    }\n",
              "    const paths = {\n",
              "      \"vega\": \"https://cdn.jsdelivr.net/npm//vega@5?noext\",\n",
              "      \"vega-lib\": \"https://cdn.jsdelivr.net/npm//vega-lib?noext\",\n",
              "      \"vega-lite\": \"https://cdn.jsdelivr.net/npm//vega-lite@4.17.0?noext\",\n",
              "      \"vega-embed\": \"https://cdn.jsdelivr.net/npm//vega-embed@6?noext\",\n",
              "    };\n",
              "\n",
              "    function maybeLoadScript(lib, version) {\n",
              "      var key = `${lib.replace(\"-\", \"\")}_version`;\n",
              "      return (VEGA_DEBUG[key] == version) ?\n",
              "        Promise.resolve(paths[lib]) :\n",
              "        new Promise(function(resolve, reject) {\n",
              "          var s = document.createElement('script');\n",
              "          document.getElementsByTagName(\"head\")[0].appendChild(s);\n",
              "          s.async = true;\n",
              "          s.onload = () => {\n",
              "            VEGA_DEBUG[key] = version;\n",
              "            return resolve(paths[lib]);\n",
              "          };\n",
              "          s.onerror = () => reject(`Error loading script: ${paths[lib]}`);\n",
              "          s.src = paths[lib];\n",
              "        });\n",
              "    }\n",
              "\n",
              "    function showError(err) {\n",
              "      outputDiv.innerHTML = `<div class=\"error\" style=\"color:red;\">${err}</div>`;\n",
              "      throw err;\n",
              "    }\n",
              "\n",
              "    function displayChart(vegaEmbed) {\n",
              "      vegaEmbed(outputDiv, spec, embedOpt)\n",
              "        .catch(err => showError(`Javascript Error: ${err.message}<br>This usually means there's a typo in your chart specification. See the javascript console for the full traceback.`));\n",
              "    }\n",
              "\n",
              "    if(typeof define === \"function\" && define.amd) {\n",
              "      requirejs.config({paths});\n",
              "      require([\"vega-embed\"], displayChart, err => showError(`Error loading script: ${err.message}`));\n",
              "    } else {\n",
              "      maybeLoadScript(\"vega\", \"5\")\n",
              "        .then(() => maybeLoadScript(\"vega-lite\", \"4.17.0\"))\n",
              "        .then(() => maybeLoadScript(\"vega-embed\", \"6\"))\n",
              "        .catch(showError)\n",
              "        .then(() => displayChart(vegaEmbed));\n",
              "    }\n",
              "  })({\"config\": {\"view\": {\"continuousWidth\": 400, \"continuousHeight\": 300}}, \"data\": {\"name\": \"data-b59b30f28c610871cec1a9a886d34c5d\"}, \"mark\": \"line\", \"encoding\": {\"color\": {\"field\": \"variable\", \"type\": \"nominal\"}, \"x\": {\"field\": \"index\", \"type\": \"quantitative\"}, \"y\": {\"field\": \"value\", \"type\": \"quantitative\"}}, \"$schema\": \"https://vega.github.io/schema/vega-lite/v4.17.0.json\", \"datasets\": {\"data-b59b30f28c610871cec1a9a886d34c5d\": [{\"level_0\": 0, \"index\": 0, \"variable\": \"Hamilton\", \"value\": 306}, {\"level_0\": 1, \"index\": 1, \"variable\": \"Hamilton\", \"value\": 240}, {\"level_0\": 2, \"index\": 2, \"variable\": \"Hamilton\", \"value\": 291}, {\"level_0\": 3, \"index\": 3, \"variable\": \"Hamilton\", \"value\": 324}, {\"level_0\": 4, \"index\": 4, \"variable\": \"Hamilton\", \"value\": 293}, {\"level_0\": 5, \"index\": 5, \"variable\": \"Hamilton\", \"value\": 367}, {\"level_0\": 6, \"index\": 6, \"variable\": \"Hamilton\", \"value\": 284}, {\"level_0\": 7, \"index\": 7, \"variable\": \"Hamilton\", \"value\": 297}, {\"level_0\": 8, \"index\": 8, \"variable\": \"Hamilton\", \"value\": 325}, {\"level_0\": 9, \"index\": 9, \"variable\": \"Hamilton\", \"value\": 379}, {\"level_0\": 10, \"index\": 10, \"variable\": \"Hamilton\", \"value\": 377}, {\"level_0\": 11, \"index\": 11, \"variable\": \"Hamilton\", \"value\": 307}, {\"level_0\": 12, \"index\": 12, \"variable\": \"Hamilton\", \"value\": 386}, {\"level_0\": 13, \"index\": 13, \"variable\": \"Hamilton\", \"value\": 400}, {\"level_0\": 14, \"index\": 14, \"variable\": \"Hamilton\", \"value\": 272}, {\"level_0\": 15, \"index\": 15, \"variable\": \"Hamilton\", \"value\": 343}, {\"level_0\": 16, \"index\": 16, \"variable\": \"Hamilton\", \"value\": 418}, {\"level_0\": 17, \"index\": 17, \"variable\": \"Hamilton\", \"value\": 404}, {\"level_0\": 18, \"index\": 18, \"variable\": \"Hamilton\", \"value\": 437}, {\"level_0\": 19, \"index\": 19, \"variable\": \"Hamilton\", \"value\": 486}, {\"level_0\": 20, \"index\": 20, \"variable\": \"Hamilton\", \"value\": 490}, {\"level_0\": 21, \"index\": 21, \"variable\": \"Hamilton\", \"value\": 477}, {\"level_0\": 22, \"index\": 22, \"variable\": \"Hamilton\", \"value\": 419}, {\"level_0\": 23, \"index\": 23, \"variable\": \"Hamilton\", \"value\": 459}, {\"level_0\": 24, \"index\": 24, \"variable\": \"Hamilton\", \"value\": 636}, {\"level_0\": 25, \"index\": 25, \"variable\": \"Hamilton\", \"value\": 528}, {\"level_0\": 26, \"index\": 26, \"variable\": \"Hamilton\", \"value\": 383}, {\"level_0\": 27, \"index\": 27, \"variable\": \"Hamilton\", \"value\": 583}, {\"level_0\": 28, \"index\": 28, \"variable\": \"Hamilton\", \"value\": 622}, {\"level_0\": 29, \"index\": 29, \"variable\": \"Hamilton\", \"value\": 612}, {\"level_0\": 30, \"index\": 30, \"variable\": \"Hamilton\", \"value\": 578}, {\"level_0\": 31, \"index\": 31, \"variable\": \"Hamilton\", \"value\": 703}, {\"level_0\": 32, \"index\": 32, \"variable\": \"Hamilton\", \"value\": 751}, {\"level_0\": 33, \"index\": 33, \"variable\": \"Hamilton\", \"value\": 716}, {\"level_0\": 34, \"index\": 34, \"variable\": \"Hamilton\", \"value\": 702}, {\"level_0\": 35, \"index\": 35, \"variable\": \"Hamilton\", \"value\": 785}, {\"level_0\": 36, \"index\": 36, \"variable\": \"Hamilton\", \"value\": 925}, {\"level_0\": 37, \"index\": 37, \"variable\": \"Hamilton\", \"value\": 922}, {\"level_0\": 38, \"index\": 38, \"variable\": \"Hamilton\", \"value\": 970}, {\"level_0\": 39, \"index\": 39, \"variable\": \"Hamilton\", \"value\": 855}, {\"level_0\": 40, \"index\": 40, \"variable\": \"Hamilton\", \"value\": 1245}, {\"level_0\": 41, \"index\": 41, \"variable\": \"Hamilton\", \"value\": 1329}, {\"level_0\": 42, \"index\": 42, \"variable\": \"Hamilton\", \"value\": 1549}, {\"level_0\": 43, \"index\": 43, \"variable\": \"Hamilton\", \"value\": 1717}, {\"level_0\": 44, \"index\": 44, \"variable\": \"Hamilton\", \"value\": 2300}, {\"level_0\": 45, \"index\": 45, \"variable\": \"Hamilton\", \"value\": 2829}, {\"level_0\": 46, \"index\": 46, \"variable\": \"Hamilton\", \"value\": 2720}, {\"level_0\": 47, \"index\": 47, \"variable\": \"Hamilton\", \"value\": 4598}, {\"level_0\": 48, \"index\": 48, \"variable\": \"Hamilton\", \"value\": 7329}, {\"level_0\": 49, \"index\": 49, \"variable\": \"Hamilton\", \"value\": 10450}, {\"level_0\": 50, \"index\": 0, \"variable\": \"Madison\", \"value\": 75}, {\"level_0\": 51, \"index\": 1, \"variable\": \"Madison\", \"value\": 143}, {\"level_0\": 52, \"index\": 2, \"variable\": \"Madison\", \"value\": 76}, {\"level_0\": 53, \"index\": 3, \"variable\": \"Madison\", \"value\": 72}, {\"level_0\": 54, \"index\": 4, \"variable\": \"Madison\", \"value\": 133}, {\"level_0\": 55, \"index\": 5, \"variable\": \"Madison\", \"value\": 81}, {\"level_0\": 56, \"index\": 6, \"variable\": \"Madison\", \"value\": 124}, {\"level_0\": 57, \"index\": 7, \"variable\": \"Madison\", \"value\": 116}, {\"level_0\": 58, \"index\": 8, \"variable\": \"Madison\", \"value\": 111}, {\"level_0\": 59, \"index\": 9, \"variable\": \"Madison\", \"value\": 83}, {\"level_0\": 60, \"index\": 10, \"variable\": \"Madison\", \"value\": 77}, {\"level_0\": 61, \"index\": 11, \"variable\": \"Madison\", \"value\": 120}, {\"level_0\": 62, \"index\": 12, \"variable\": \"Madison\", \"value\": 133}, {\"level_0\": 63, \"index\": 13, \"variable\": \"Madison\", \"value\": 138}, {\"level_0\": 64, \"index\": 14, \"variable\": \"Madison\", \"value\": 136}, {\"level_0\": 65, \"index\": 15, \"variable\": \"Madison\", \"value\": 153}, {\"level_0\": 66, \"index\": 16, \"variable\": \"Madison\", \"value\": 130}, {\"level_0\": 67, \"index\": 17, \"variable\": \"Madison\", \"value\": 142}, {\"level_0\": 68, \"index\": 18, \"variable\": \"Madison\", \"value\": 149}, {\"level_0\": 69, \"index\": 19, \"variable\": \"Madison\", \"value\": 169}, {\"level_0\": 70, \"index\": 20, \"variable\": \"Madison\", \"value\": 194}, {\"level_0\": 71, \"index\": 21, \"variable\": \"Madison\", \"value\": 179}, {\"level_0\": 72, \"index\": 22, \"variable\": \"Madison\", \"value\": 227}, {\"level_0\": 73, \"index\": 23, \"variable\": \"Madison\", \"value\": 245}, {\"level_0\": 74, \"index\": 24, \"variable\": \"Madison\", \"value\": 165}, {\"level_0\": 75, \"index\": 25, \"variable\": \"Madison\", \"value\": 184}, {\"level_0\": 76, \"index\": 26, \"variable\": \"Madison\", \"value\": 295}, {\"level_0\": 77, \"index\": 27, \"variable\": \"Madison\", \"value\": 208}, {\"level_0\": 78, \"index\": 28, \"variable\": \"Madison\", \"value\": 192}, {\"level_0\": 79, \"index\": 29, \"variable\": \"Madison\", \"value\": 212}, {\"level_0\": 80, \"index\": 30, \"variable\": \"Madison\", \"value\": 234}, {\"level_0\": 81, \"index\": 31, \"variable\": \"Madison\", \"value\": 256}, {\"level_0\": 82, \"index\": 32, \"variable\": \"Madison\", \"value\": 232}, {\"level_0\": 83, \"index\": 33, \"variable\": \"Madison\", \"value\": 259}, {\"level_0\": 84, \"index\": 34, \"variable\": \"Madison\", \"value\": 247}, {\"level_0\": 85, \"index\": 35, \"variable\": \"Madison\", \"value\": 265}, {\"level_0\": 86, \"index\": 36, \"variable\": \"Madison\", \"value\": 159}, {\"level_0\": 87, \"index\": 37, \"variable\": \"Madison\", \"value\": 249}, {\"level_0\": 88, \"index\": 38, \"variable\": \"Madison\", \"value\": 372}, {\"level_0\": 89, \"index\": 39, \"variable\": \"Madison\", \"value\": 452}, {\"level_0\": 90, \"index\": 40, \"variable\": \"Madison\", \"value\": 424}, {\"level_0\": 91, \"index\": 41, \"variable\": \"Madison\", \"value\": 481}, {\"level_0\": 92, \"index\": 42, \"variable\": \"Madison\", \"value\": 497}, {\"level_0\": 93, \"index\": 43, \"variable\": \"Madison\", \"value\": 542}, {\"level_0\": 94, \"index\": 44, \"variable\": \"Madison\", \"value\": 754}, {\"level_0\": 95, \"index\": 45, \"variable\": \"Madison\", \"value\": 808}, {\"level_0\": 96, \"index\": 46, \"variable\": \"Madison\", \"value\": 1164}, {\"level_0\": 97, \"index\": 47, \"variable\": \"Madison\", \"value\": 1261}, {\"level_0\": 98, \"index\": 48, \"variable\": \"Madison\", \"value\": 2335}, {\"level_0\": 99, \"index\": 49, \"variable\": \"Madison\", \"value\": 3904}, {\"level_0\": 100, \"index\": 0, \"variable\": \"Jay\", \"value\": 25}, {\"level_0\": 101, \"index\": 1, \"variable\": \"Jay\", \"value\": 6}, {\"level_0\": 102, \"index\": 2, \"variable\": \"Jay\", \"value\": 20}, {\"level_0\": 103, \"index\": 3, \"variable\": \"Jay\", \"value\": 36}, {\"level_0\": 104, \"index\": 4, \"variable\": \"Jay\", \"value\": 10}, {\"level_0\": 105, \"index\": 5, \"variable\": \"Jay\", \"value\": 22}, {\"level_0\": 106, \"index\": 6, \"variable\": \"Jay\", \"value\": 45}, {\"level_0\": 107, \"index\": 7, \"variable\": \"Jay\", \"value\": 47}, {\"level_0\": 108, \"index\": 8, \"variable\": \"Jay\", \"value\": 33}, {\"level_0\": 109, \"index\": 9, \"variable\": \"Jay\", \"value\": 35}, {\"level_0\": 110, \"index\": 10, \"variable\": \"Jay\", \"value\": 22}, {\"level_0\": 111, \"index\": 11, \"variable\": \"Jay\", \"value\": 46}, {\"level_0\": 112, \"index\": 12, \"variable\": \"Jay\", \"value\": 17}, {\"level_0\": 113, \"index\": 13, \"variable\": \"Jay\", \"value\": 19}, {\"level_0\": 114, \"index\": 14, \"variable\": \"Jay\", \"value\": 48}, {\"level_0\": 115, \"index\": 15, \"variable\": \"Jay\", \"value\": 30}, {\"level_0\": 116, \"index\": 16, \"variable\": \"Jay\", \"value\": 19}, {\"level_0\": 117, \"index\": 17, \"variable\": \"Jay\", \"value\": 41}, {\"level_0\": 118, \"index\": 18, \"variable\": \"Jay\", \"value\": 24}, {\"level_0\": 119, \"index\": 19, \"variable\": \"Jay\", \"value\": 20}, {\"level_0\": 120, \"index\": 20, \"variable\": \"Jay\", \"value\": 16}, {\"level_0\": 121, \"index\": 21, \"variable\": \"Jay\", \"value\": 34}, {\"level_0\": 122, \"index\": 22, \"variable\": \"Jay\", \"value\": 45}, {\"level_0\": 123, \"index\": 23, \"variable\": \"Jay\", \"value\": 19}, {\"level_0\": 124, \"index\": 24, \"variable\": \"Jay\", \"value\": 17}, {\"level_0\": 125, \"index\": 25, \"variable\": \"Jay\", \"value\": 87}, {\"level_0\": 126, \"index\": 26, \"variable\": \"Jay\", \"value\": 44}, {\"level_0\": 127, \"index\": 27, \"variable\": \"Jay\", \"value\": 53}, {\"level_0\": 128, \"index\": 28, \"variable\": \"Jay\", \"value\": 50}, {\"level_0\": 129, \"index\": 29, \"variable\": \"Jay\", \"value\": 60}, {\"level_0\": 130, \"index\": 30, \"variable\": \"Jay\", \"value\": 83}, {\"level_0\": 131, \"index\": 31, \"variable\": \"Jay\", \"value\": 65}, {\"level_0\": 132, \"index\": 32, \"variable\": \"Jay\", \"value\": 90}, {\"level_0\": 133, \"index\": 33, \"variable\": \"Jay\", \"value\": 57}, {\"level_0\": 134, \"index\": 34, \"variable\": \"Jay\", \"value\": 73}, {\"level_0\": 135, \"index\": 35, \"variable\": \"Jay\", \"value\": 53}, {\"level_0\": 136, \"index\": 36, \"variable\": \"Jay\", \"value\": 68}, {\"level_0\": 137, \"index\": 37, \"variable\": \"Jay\", \"value\": 38}, {\"level_0\": 138, \"index\": 38, \"variable\": \"Jay\", \"value\": 102}, {\"level_0\": 139, \"index\": 39, \"variable\": \"Jay\", \"value\": 82}, {\"level_0\": 140, \"index\": 40, \"variable\": \"Jay\", \"value\": 56}, {\"level_0\": 141, \"index\": 41, \"variable\": \"Jay\", \"value\": 57}, {\"level_0\": 142, \"index\": 42, \"variable\": \"Jay\", \"value\": 138}, {\"level_0\": 143, \"index\": 43, \"variable\": \"Jay\", \"value\": 150}, {\"level_0\": 144, \"index\": 44, \"variable\": \"Jay\", \"value\": 160}, {\"level_0\": 145, \"index\": 45, \"variable\": \"Jay\", \"value\": 164}, {\"level_0\": 146, \"index\": 46, \"variable\": \"Jay\", \"value\": 408}, {\"level_0\": 147, \"index\": 47, \"variable\": \"Jay\", \"value\": 293}, {\"level_0\": 148, \"index\": 48, \"variable\": \"Jay\", \"value\": 369}, {\"level_0\": 149, \"index\": 49, \"variable\": \"Jay\", \"value\": 526}]}}, {\"mode\": \"vega-lite\"});\n",
              "</script>"
            ]
          },
          "metadata": {},
          "execution_count": 163
        }
      ]
    },
    {
      "cell_type": "code",
      "source": [
        "top50_words"
      ],
      "metadata": {
        "colab": {
          "base_uri": "https://localhost:8080/"
        },
        "id": "v-3kZolPv5Bg",
        "outputId": "00e2d6db-bc54-4b25-e439-e37f70202030"
      },
      "execution_count": 164,
      "outputs": [
        {
          "output_type": "execute_result",
          "data": {
            "text/plain": [
              "array([['we', 'constitution', 'can', 'those', 'no', 'any', 'one', 'them',\n",
              "        'than', 'if', 'at', 'more', 'has', 'power', 'people', 'other',\n",
              "        'its', 'but', 'all', 'state', 'been', 'may', 'government',\n",
              "        'states', 'an', 'they', 'on', 'are', 'from', 'with', 'their',\n",
              "        'not', 'or', 'for', 'will', 'have', 'would', 'this', 'as', 'by',\n",
              "        'which', 'is', 'it', 'that', 'be', 'in', 'and', 'to', 'of',\n",
              "        'the']], dtype=object)"
            ]
          },
          "metadata": {},
          "execution_count": 164
        }
      ]
    },
    {
      "cell_type": "markdown",
      "source": [
        "The above visualization the x variable represents the index into the above array, so the right side are the most common words. Below, it is plotted as a percentage of the total words written. "
      ],
      "metadata": {
        "id": "cteYtSYV1GEg"
      }
    },
    {
      "cell_type": "code",
      "source": [
        "toplot[\"val_p\"] = toplot[\"value\"]/toplot.groupby(\"variable\")[\"value\"].transform(\"sum\")\n",
        "alt.Chart(toplot.reset_index()).mark_line().encode(\n",
        "    x=\"index:Q\",\n",
        "    y=\"val_p:Q\",\n",
        "    color=\"variable\"\n",
        ")"
      ],
      "metadata": {
        "colab": {
          "base_uri": "https://localhost:8080/",
          "height": 369
        },
        "id": "29IFwvPU1hkL",
        "outputId": "3fa19e7c-81fb-4e63-824f-bf24cb8be601"
      },
      "execution_count": 165,
      "outputs": [
        {
          "output_type": "execute_result",
          "data": {
            "text/plain": [
              "alt.Chart(...)"
            ],
            "text/html": [
              "\n",
              "<div id=\"altair-viz-3936f3897efb48cfb8bb7218fc4ee659\"></div>\n",
              "<script type=\"text/javascript\">\n",
              "  var VEGA_DEBUG = (typeof VEGA_DEBUG == \"undefined\") ? {} : VEGA_DEBUG;\n",
              "  (function(spec, embedOpt){\n",
              "    let outputDiv = document.currentScript.previousElementSibling;\n",
              "    if (outputDiv.id !== \"altair-viz-3936f3897efb48cfb8bb7218fc4ee659\") {\n",
              "      outputDiv = document.getElementById(\"altair-viz-3936f3897efb48cfb8bb7218fc4ee659\");\n",
              "    }\n",
              "    const paths = {\n",
              "      \"vega\": \"https://cdn.jsdelivr.net/npm//vega@5?noext\",\n",
              "      \"vega-lib\": \"https://cdn.jsdelivr.net/npm//vega-lib?noext\",\n",
              "      \"vega-lite\": \"https://cdn.jsdelivr.net/npm//vega-lite@4.17.0?noext\",\n",
              "      \"vega-embed\": \"https://cdn.jsdelivr.net/npm//vega-embed@6?noext\",\n",
              "    };\n",
              "\n",
              "    function maybeLoadScript(lib, version) {\n",
              "      var key = `${lib.replace(\"-\", \"\")}_version`;\n",
              "      return (VEGA_DEBUG[key] == version) ?\n",
              "        Promise.resolve(paths[lib]) :\n",
              "        new Promise(function(resolve, reject) {\n",
              "          var s = document.createElement('script');\n",
              "          document.getElementsByTagName(\"head\")[0].appendChild(s);\n",
              "          s.async = true;\n",
              "          s.onload = () => {\n",
              "            VEGA_DEBUG[key] = version;\n",
              "            return resolve(paths[lib]);\n",
              "          };\n",
              "          s.onerror = () => reject(`Error loading script: ${paths[lib]}`);\n",
              "          s.src = paths[lib];\n",
              "        });\n",
              "    }\n",
              "\n",
              "    function showError(err) {\n",
              "      outputDiv.innerHTML = `<div class=\"error\" style=\"color:red;\">${err}</div>`;\n",
              "      throw err;\n",
              "    }\n",
              "\n",
              "    function displayChart(vegaEmbed) {\n",
              "      vegaEmbed(outputDiv, spec, embedOpt)\n",
              "        .catch(err => showError(`Javascript Error: ${err.message}<br>This usually means there's a typo in your chart specification. See the javascript console for the full traceback.`));\n",
              "    }\n",
              "\n",
              "    if(typeof define === \"function\" && define.amd) {\n",
              "      requirejs.config({paths});\n",
              "      require([\"vega-embed\"], displayChart, err => showError(`Error loading script: ${err.message}`));\n",
              "    } else {\n",
              "      maybeLoadScript(\"vega\", \"5\")\n",
              "        .then(() => maybeLoadScript(\"vega-lite\", \"4.17.0\"))\n",
              "        .then(() => maybeLoadScript(\"vega-embed\", \"6\"))\n",
              "        .catch(showError)\n",
              "        .then(() => displayChart(vegaEmbed));\n",
              "    }\n",
              "  })({\"config\": {\"view\": {\"continuousWidth\": 400, \"continuousHeight\": 300}}, \"data\": {\"name\": \"data-a66510ca643f6a5798ec272389db7aa1\"}, \"mark\": \"line\", \"encoding\": {\"color\": {\"field\": \"variable\", \"type\": \"nominal\"}, \"x\": {\"field\": \"index\", \"type\": \"quantitative\"}, \"y\": {\"field\": \"val_p\", \"type\": \"quantitative\"}}, \"$schema\": \"https://vega.github.io/schema/vega-lite/v4.17.0.json\", \"datasets\": {\"data-a66510ca643f6a5798ec272389db7aa1\": [{\"level_0\": 0, \"index\": 0, \"variable\": \"Hamilton\", \"value\": 306, \"val_p\": 0.005452795894365444}, {\"level_0\": 1, \"index\": 1, \"variable\": \"Hamilton\", \"value\": 240, \"val_p\": 0.004276702662247407}, {\"level_0\": 2, \"index\": 2, \"variable\": \"Hamilton\", \"value\": 291, \"val_p\": 0.005185501977974981}, {\"level_0\": 3, \"index\": 3, \"variable\": \"Hamilton\", \"value\": 324, \"val_p\": 0.005773548594034}, {\"level_0\": 4, \"index\": 4, \"variable\": \"Hamilton\", \"value\": 293, \"val_p\": 0.005221141166827043}, {\"level_0\": 5, \"index\": 5, \"variable\": \"Hamilton\", \"value\": 367, \"val_p\": 0.006539791154353327}, {\"level_0\": 6, \"index\": 6, \"variable\": \"Hamilton\", \"value\": 284, \"val_p\": 0.005060764816992765}, {\"level_0\": 7, \"index\": 7, \"variable\": \"Hamilton\", \"value\": 297, \"val_p\": 0.005292419544531166}, {\"level_0\": 8, \"index\": 8, \"variable\": \"Hamilton\", \"value\": 325, \"val_p\": 0.00579136818846003}, {\"level_0\": 9, \"index\": 9, \"variable\": \"Hamilton\", \"value\": 379, \"val_p\": 0.0067536262874656975}, {\"level_0\": 10, \"index\": 10, \"variable\": \"Hamilton\", \"value\": 377, \"val_p\": 0.006717987098613635}, {\"level_0\": 11, \"index\": 11, \"variable\": \"Hamilton\", \"value\": 307, \"val_p\": 0.005470615488791475}, {\"level_0\": 12, \"index\": 12, \"variable\": \"Hamilton\", \"value\": 386, \"val_p\": 0.0068783634484479135}, {\"level_0\": 13, \"index\": 13, \"variable\": \"Hamilton\", \"value\": 400, \"val_p\": 0.007127837770412346}, {\"level_0\": 14, \"index\": 14, \"variable\": \"Hamilton\", \"value\": 272, \"val_p\": 0.004846929683880395}, {\"level_0\": 15, \"index\": 15, \"variable\": \"Hamilton\", \"value\": 343, \"val_p\": 0.006112120888128586}, {\"level_0\": 16, \"index\": 16, \"variable\": \"Hamilton\", \"value\": 418, \"val_p\": 0.007448590470080901}, {\"level_0\": 17, \"index\": 17, \"variable\": \"Hamilton\", \"value\": 404, \"val_p\": 0.007199116148116469}, {\"level_0\": 18, \"index\": 18, \"variable\": \"Hamilton\", \"value\": 437, \"val_p\": 0.007787162764175487}, {\"level_0\": 19, \"index\": 19, \"variable\": \"Hamilton\", \"value\": 486, \"val_p\": 0.008660322891051}, {\"level_0\": 20, \"index\": 20, \"variable\": \"Hamilton\", \"value\": 490, \"val_p\": 0.008731601268755123}, {\"level_0\": 21, \"index\": 21, \"variable\": \"Hamilton\", \"value\": 477, \"val_p\": 0.008499946541216722}, {\"level_0\": 22, \"index\": 22, \"variable\": \"Hamilton\", \"value\": 419, \"val_p\": 0.007466410064506932}, {\"level_0\": 23, \"index\": 23, \"variable\": \"Hamilton\", \"value\": 459, \"val_p\": 0.008179193841548166}, {\"level_0\": 24, \"index\": 24, \"variable\": \"Hamilton\", \"value\": 636, \"val_p\": 0.011333262054955629}, {\"level_0\": 25, \"index\": 25, \"variable\": \"Hamilton\", \"value\": 528, \"val_p\": 0.009408745856944296}, {\"level_0\": 26, \"index\": 26, \"variable\": \"Hamilton\", \"value\": 383, \"val_p\": 0.006824904665169821}, {\"level_0\": 27, \"index\": 27, \"variable\": \"Hamilton\", \"value\": 583, \"val_p\": 0.010388823550375993}, {\"level_0\": 28, \"index\": 28, \"variable\": \"Hamilton\", \"value\": 622, \"val_p\": 0.011083787732991197}, {\"level_0\": 29, \"index\": 29, \"variable\": \"Hamilton\", \"value\": 612, \"val_p\": 0.010905591788730889}, {\"level_0\": 30, \"index\": 30, \"variable\": \"Hamilton\", \"value\": 578, \"val_p\": 0.01029972557824584}, {\"level_0\": 31, \"index\": 31, \"variable\": \"Hamilton\", \"value\": 703, \"val_p\": 0.012527174881499696}, {\"level_0\": 32, \"index\": 32, \"variable\": \"Hamilton\", \"value\": 751, \"val_p\": 0.013382515413949178}, {\"level_0\": 33, \"index\": 33, \"variable\": \"Hamilton\", \"value\": 716, \"val_p\": 0.012758829609038099}, {\"level_0\": 34, \"index\": 34, \"variable\": \"Hamilton\", \"value\": 702, \"val_p\": 0.012509355287073667}, {\"level_0\": 35, \"index\": 35, \"variable\": \"Hamilton\", \"value\": 785, \"val_p\": 0.013988381624434228}, {\"level_0\": 36, \"index\": 36, \"variable\": \"Hamilton\", \"value\": 925, \"val_p\": 0.01648312484407855}, {\"level_0\": 37, \"index\": 37, \"variable\": \"Hamilton\", \"value\": 922, \"val_p\": 0.016429666060800457}, {\"level_0\": 38, \"index\": 38, \"variable\": \"Hamilton\", \"value\": 970, \"val_p\": 0.017285006593249937}, {\"level_0\": 39, \"index\": 39, \"variable\": \"Hamilton\", \"value\": 855, \"val_p\": 0.015235753234256388}, {\"level_0\": 40, \"index\": 40, \"variable\": \"Hamilton\", \"value\": 1245, \"val_p\": 0.022185395060408425}, {\"level_0\": 41, \"index\": 41, \"variable\": \"Hamilton\", \"value\": 1329, \"val_p\": 0.023682240992195017}, {\"level_0\": 42, \"index\": 42, \"variable\": \"Hamilton\", \"value\": 1549, \"val_p\": 0.027602551765921808}, {\"level_0\": 43, \"index\": 43, \"variable\": \"Hamilton\", \"value\": 1717, \"val_p\": 0.030596243629494993}, {\"level_0\": 44, \"index\": 44, \"variable\": \"Hamilton\", \"value\": 2300, \"val_p\": 0.040985067179870986}, {\"level_0\": 45, \"index\": 45, \"variable\": \"Hamilton\", \"value\": 2829, \"val_p\": 0.050411632631241314}, {\"level_0\": 46, \"index\": 46, \"variable\": \"Hamilton\", \"value\": 2720, \"val_p\": 0.04846929683880395}, {\"level_0\": 47, \"index\": 47, \"variable\": \"Hamilton\", \"value\": 4598, \"val_p\": 0.08193449517088991}, {\"level_0\": 48, \"index\": 48, \"variable\": \"Hamilton\", \"value\": 7329, \"val_p\": 0.1305998075483802}, {\"level_0\": 49, \"index\": 49, \"variable\": \"Hamilton\", \"value\": 10450, \"val_p\": 0.18621476175202253}, {\"level_0\": 50, \"index\": 0, \"variable\": \"Madison\", \"value\": 75, \"val_p\": 0.0038745673399803687}, {\"level_0\": 51, \"index\": 1, \"variable\": \"Madison\", \"value\": 143, \"val_p\": 0.007387508394895903}, {\"level_0\": 52, \"index\": 2, \"variable\": \"Madison\", \"value\": 76, \"val_p\": 0.003926228237846774}, {\"level_0\": 53, \"index\": 3, \"variable\": \"Madison\", \"value\": 72, \"val_p\": 0.003719584646381154}, {\"level_0\": 54, \"index\": 4, \"variable\": \"Madison\", \"value\": 133, \"val_p\": 0.006870899416231854}, {\"level_0\": 55, \"index\": 5, \"variable\": \"Madison\", \"value\": 81, \"val_p\": 0.0041845327271787984}, {\"level_0\": 56, \"index\": 6, \"variable\": \"Madison\", \"value\": 124, \"val_p\": 0.00640595133543421}, {\"level_0\": 57, \"index\": 7, \"variable\": \"Madison\", \"value\": 116, \"val_p\": 0.00599266415250297}, {\"level_0\": 58, \"index\": 8, \"variable\": \"Madison\", \"value\": 111, \"val_p\": 0.005734359663170946}, {\"level_0\": 59, \"index\": 9, \"variable\": \"Madison\", \"value\": 83, \"val_p\": 0.004287854522911608}, {\"level_0\": 60, \"index\": 10, \"variable\": \"Madison\", \"value\": 77, \"val_p\": 0.003977889135713179}, {\"level_0\": 61, \"index\": 11, \"variable\": \"Madison\", \"value\": 120, \"val_p\": 0.00619930774396859}, {\"level_0\": 62, \"index\": 12, \"variable\": \"Madison\", \"value\": 133, \"val_p\": 0.006870899416231854}, {\"level_0\": 63, \"index\": 13, \"variable\": \"Madison\", \"value\": 138, \"val_p\": 0.007129203905563879}, {\"level_0\": 64, \"index\": 14, \"variable\": \"Madison\", \"value\": 136, \"val_p\": 0.0070258821098310685}, {\"level_0\": 65, \"index\": 15, \"variable\": \"Madison\", \"value\": 153, \"val_p\": 0.007904117373559953}, {\"level_0\": 66, \"index\": 16, \"variable\": \"Madison\", \"value\": 130, \"val_p\": 0.006715916722632639}, {\"level_0\": 67, \"index\": 17, \"variable\": \"Madison\", \"value\": 142, \"val_p\": 0.007335847497029499}, {\"level_0\": 68, \"index\": 18, \"variable\": \"Madison\", \"value\": 149, \"val_p\": 0.007697473782094333}, {\"level_0\": 69, \"index\": 19, \"variable\": \"Madison\", \"value\": 169, \"val_p\": 0.008730691739422432}, {\"level_0\": 70, \"index\": 20, \"variable\": \"Madison\", \"value\": 194, \"val_p\": 0.010022214186082554}, {\"level_0\": 71, \"index\": 21, \"variable\": \"Madison\", \"value\": 179, \"val_p\": 0.00924730071808648}, {\"level_0\": 72, \"index\": 22, \"variable\": \"Madison\", \"value\": 227, \"val_p\": 0.011727023815673917}, {\"level_0\": 73, \"index\": 23, \"variable\": \"Madison\", \"value\": 245, \"val_p\": 0.012656919977269206}, {\"level_0\": 74, \"index\": 24, \"variable\": \"Madison\", \"value\": 165, \"val_p\": 0.008524048147956811}, {\"level_0\": 75, \"index\": 25, \"variable\": \"Madison\", \"value\": 184, \"val_p\": 0.009505605207418505}, {\"level_0\": 76, \"index\": 26, \"variable\": \"Madison\", \"value\": 295, \"val_p\": 0.015239964870589451}, {\"level_0\": 77, \"index\": 27, \"variable\": \"Madison\", \"value\": 208, \"val_p\": 0.010745466756212223}, {\"level_0\": 78, \"index\": 28, \"variable\": \"Madison\", \"value\": 192, \"val_p\": 0.009918892390349744}, {\"level_0\": 79, \"index\": 29, \"variable\": \"Madison\", \"value\": 212, \"val_p\": 0.010952110347677842}, {\"level_0\": 80, \"index\": 30, \"variable\": \"Madison\", \"value\": 234, \"val_p\": 0.01208865010073875}, {\"level_0\": 81, \"index\": 31, \"variable\": \"Madison\", \"value\": 256, \"val_p\": 0.01322518985379966}, {\"level_0\": 82, \"index\": 32, \"variable\": \"Madison\", \"value\": 232, \"val_p\": 0.01198532830500594}, {\"level_0\": 83, \"index\": 33, \"variable\": \"Madison\", \"value\": 259, \"val_p\": 0.013380172547398874}, {\"level_0\": 84, \"index\": 34, \"variable\": \"Madison\", \"value\": 247, \"val_p\": 0.012760241773002015}, {\"level_0\": 85, \"index\": 35, \"variable\": \"Madison\", \"value\": 265, \"val_p\": 0.013690137934597304}, {\"level_0\": 86, \"index\": 36, \"variable\": \"Madison\", \"value\": 159, \"val_p\": 0.008214082760758383}, {\"level_0\": 87, \"index\": 37, \"variable\": \"Madison\", \"value\": 249, \"val_p\": 0.012863563568734825}, {\"level_0\": 88, \"index\": 38, \"variable\": \"Madison\", \"value\": 372, \"val_p\": 0.019217854006302628}, {\"level_0\": 89, \"index\": 39, \"variable\": \"Madison\", \"value\": 452, \"val_p\": 0.023350725835615024}, {\"level_0\": 90, \"index\": 40, \"variable\": \"Madison\", \"value\": 424, \"val_p\": 0.021904220695355685}, {\"level_0\": 91, \"index\": 41, \"variable\": \"Madison\", \"value\": 481, \"val_p\": 0.024848891873740765}, {\"level_0\": 92, \"index\": 42, \"variable\": \"Madison\", \"value\": 497, \"val_p\": 0.025675466239603244}, {\"level_0\": 93, \"index\": 43, \"variable\": \"Madison\", \"value\": 542, \"val_p\": 0.028000206643591465}, {\"level_0\": 94, \"index\": 44, \"variable\": \"Madison\", \"value\": 754, \"val_p\": 0.03895231699126931}, {\"level_0\": 95, \"index\": 45, \"variable\": \"Madison\", \"value\": 808, \"val_p\": 0.04174200547605517}, {\"level_0\": 96, \"index\": 46, \"variable\": \"Madison\", \"value\": 1164, \"val_p\": 0.06013328511649532}, {\"level_0\": 97, \"index\": 47, \"variable\": \"Madison\", \"value\": 1261, \"val_p\": 0.0651443922095366}, {\"level_0\": 98, \"index\": 48, \"variable\": \"Madison\", \"value\": 2335, \"val_p\": 0.12062819651805548}, {\"level_0\": 99, \"index\": 49, \"variable\": \"Madison\", \"value\": 3904, \"val_p\": 0.2016841452704448}, {\"level_0\": 100, \"index\": 0, \"variable\": \"Jay\", \"value\": 25, \"val_p\": 0.006215813028344107}, {\"level_0\": 101, \"index\": 1, \"variable\": \"Jay\", \"value\": 6, \"val_p\": 0.0014917951268025858}, {\"level_0\": 102, \"index\": 2, \"variable\": \"Jay\", \"value\": 20, \"val_p\": 0.004972650422675286}, {\"level_0\": 103, \"index\": 3, \"variable\": \"Jay\", \"value\": 36, \"val_p\": 0.008950770760815515}, {\"level_0\": 104, \"index\": 4, \"variable\": \"Jay\", \"value\": 10, \"val_p\": 0.002486325211337643}, {\"level_0\": 105, \"index\": 5, \"variable\": \"Jay\", \"value\": 22, \"val_p\": 0.005469915464942815}, {\"level_0\": 106, \"index\": 6, \"variable\": \"Jay\", \"value\": 45, \"val_p\": 0.011188463451019393}, {\"level_0\": 107, \"index\": 7, \"variable\": \"Jay\", \"value\": 47, \"val_p\": 0.011685728493286921}, {\"level_0\": 108, \"index\": 8, \"variable\": \"Jay\", \"value\": 33, \"val_p\": 0.008204873197414222}, {\"level_0\": 109, \"index\": 9, \"variable\": \"Jay\", \"value\": 35, \"val_p\": 0.00870213823968175}, {\"level_0\": 110, \"index\": 10, \"variable\": \"Jay\", \"value\": 22, \"val_p\": 0.005469915464942815}, {\"level_0\": 111, \"index\": 11, \"variable\": \"Jay\", \"value\": 46, \"val_p\": 0.011437095972153158}, {\"level_0\": 112, \"index\": 12, \"variable\": \"Jay\", \"value\": 17, \"val_p\": 0.004226752859273993}, {\"level_0\": 113, \"index\": 13, \"variable\": \"Jay\", \"value\": 19, \"val_p\": 0.004724017901541522}, {\"level_0\": 114, \"index\": 14, \"variable\": \"Jay\", \"value\": 48, \"val_p\": 0.011934361014420686}, {\"level_0\": 115, \"index\": 15, \"variable\": \"Jay\", \"value\": 30, \"val_p\": 0.007458975634012929}, {\"level_0\": 116, \"index\": 16, \"variable\": \"Jay\", \"value\": 19, \"val_p\": 0.004724017901541522}, {\"level_0\": 117, \"index\": 17, \"variable\": \"Jay\", \"value\": 41, \"val_p\": 0.010193933366484336}, {\"level_0\": 118, \"index\": 18, \"variable\": \"Jay\", \"value\": 24, \"val_p\": 0.005967180507210343}, {\"level_0\": 119, \"index\": 19, \"variable\": \"Jay\", \"value\": 20, \"val_p\": 0.004972650422675286}, {\"level_0\": 120, \"index\": 20, \"variable\": \"Jay\", \"value\": 16, \"val_p\": 0.003978120338140228}, {\"level_0\": 121, \"index\": 21, \"variable\": \"Jay\", \"value\": 34, \"val_p\": 0.008453505718547987}, {\"level_0\": 122, \"index\": 22, \"variable\": \"Jay\", \"value\": 45, \"val_p\": 0.011188463451019393}, {\"level_0\": 123, \"index\": 23, \"variable\": \"Jay\", \"value\": 19, \"val_p\": 0.004724017901541522}, {\"level_0\": 124, \"index\": 24, \"variable\": \"Jay\", \"value\": 17, \"val_p\": 0.004226752859273993}, {\"level_0\": 125, \"index\": 25, \"variable\": \"Jay\", \"value\": 87, \"val_p\": 0.021631029338637493}, {\"level_0\": 126, \"index\": 26, \"variable\": \"Jay\", \"value\": 44, \"val_p\": 0.01093983092988563}, {\"level_0\": 127, \"index\": 27, \"variable\": \"Jay\", \"value\": 53, \"val_p\": 0.013177523620089508}, {\"level_0\": 128, \"index\": 28, \"variable\": \"Jay\", \"value\": 50, \"val_p\": 0.012431626056688214}, {\"level_0\": 129, \"index\": 29, \"variable\": \"Jay\", \"value\": 60, \"val_p\": 0.014917951268025857}, {\"level_0\": 130, \"index\": 30, \"variable\": \"Jay\", \"value\": 83, \"val_p\": 0.020636499254102436}, {\"level_0\": 131, \"index\": 31, \"variable\": \"Jay\", \"value\": 65, \"val_p\": 0.01616111387369468}, {\"level_0\": 132, \"index\": 32, \"variable\": \"Jay\", \"value\": 90, \"val_p\": 0.022376926902038786}, {\"level_0\": 133, \"index\": 33, \"variable\": \"Jay\", \"value\": 57, \"val_p\": 0.014172053704624566}, {\"level_0\": 134, \"index\": 34, \"variable\": \"Jay\", \"value\": 73, \"val_p\": 0.018150174042764793}, {\"level_0\": 135, \"index\": 35, \"variable\": \"Jay\", \"value\": 53, \"val_p\": 0.013177523620089508}, {\"level_0\": 136, \"index\": 36, \"variable\": \"Jay\", \"value\": 68, \"val_p\": 0.016907011437095974}, {\"level_0\": 137, \"index\": 37, \"variable\": \"Jay\", \"value\": 38, \"val_p\": 0.009448035803083043}, {\"level_0\": 138, \"index\": 38, \"variable\": \"Jay\", \"value\": 102, \"val_p\": 0.02536051715564396}, {\"level_0\": 139, \"index\": 39, \"variable\": \"Jay\", \"value\": 82, \"val_p\": 0.020387866732968673}, {\"level_0\": 140, \"index\": 40, \"variable\": \"Jay\", \"value\": 56, \"val_p\": 0.0139234211834908}, {\"level_0\": 141, \"index\": 41, \"variable\": \"Jay\", \"value\": 57, \"val_p\": 0.014172053704624566}, {\"level_0\": 142, \"index\": 42, \"variable\": \"Jay\", \"value\": 138, \"val_p\": 0.034311287916459474}, {\"level_0\": 143, \"index\": 43, \"variable\": \"Jay\", \"value\": 150, \"val_p\": 0.037294878170064646}, {\"level_0\": 144, \"index\": 44, \"variable\": \"Jay\", \"value\": 160, \"val_p\": 0.039781203381402286}, {\"level_0\": 145, \"index\": 45, \"variable\": \"Jay\", \"value\": 164, \"val_p\": 0.040775733465937346}, {\"level_0\": 146, \"index\": 46, \"variable\": \"Jay\", \"value\": 408, \"val_p\": 0.10144206862257583}, {\"level_0\": 147, \"index\": 47, \"variable\": \"Jay\", \"value\": 293, \"val_p\": 0.07284932869219293}, {\"level_0\": 148, \"index\": 48, \"variable\": \"Jay\", \"value\": 369, \"val_p\": 0.09174540029835902}, {\"level_0\": 149, \"index\": 49, \"variable\": \"Jay\", \"value\": 526, \"val_p\": 0.13078070611636003}]}}, {\"mode\": \"vega-lite\"});\n",
              "</script>"
            ]
          },
          "metadata": {},
          "execution_count": 165
        }
      ]
    },
    {
      "cell_type": "markdown",
      "metadata": {
        "id": "fh0DzmKrBLUT"
      },
      "source": [
        "## Question 3\n",
        "\n",
        "For each of the documents with disputed authorships, find the 5 most similar documents with _known_ authorships, using cosine distance on the term frequencies. Use the authors of these 5 most similar documents to predict the author of each disputed document. (For example, if 3 of the 5 closest documents were written by Hamilton, 1 by Madison, and 1 by Jay, then we would predict that the disputed document was written by Hamilton.)"
      ]
    },
    {
      "cell_type": "code",
      "source": [
        "from sklearn.metrics.pairwise import cosine_similarity\n",
        "auth = auth.fillna('unknown')\n",
        "unknowns = auth[auth.Author == \"unknown\"].index\n",
        "similar5 = cosine_similarity(top50_vect).argsort(axis=1)\n",
        "auths=[]\n",
        "for i in range(similar5.shape[0]):\n",
        "  if i in unknowns:\n",
        "    sims=similar5[i]\n",
        "    n=0\n",
        "    i=0\n",
        "    auth_row=[]\n",
        "    while n<5:\n",
        "      if not sims[i] in unknowns:\n",
        "        auth_row.append(auth.Author[sims[i]])\n",
        "        n+=1\n",
        "      i+=1\n",
        "    auths.append(max(set(auth_row), key=auth_row.count))\n",
        "pd.Series(auths,index=unknowns)"
      ],
      "metadata": {
        "colab": {
          "base_uri": "https://localhost:8080/"
        },
        "id": "sUKiODZd3EKo",
        "outputId": "49501f27-a3a7-4b69-a5d3-5bf040e8552b"
      },
      "execution_count": 166,
      "outputs": [
        {
          "output_type": "execute_result",
          "data": {
            "text/plain": [
              "17    Jay\n",
              "18    Jay\n",
              "19    Jay\n",
              "48    Jay\n",
              "49    Jay\n",
              "50    Jay\n",
              "51    Jay\n",
              "52    Jay\n",
              "53    Jay\n",
              "54    Jay\n",
              "55    Jay\n",
              "56    Jay\n",
              "57    Jay\n",
              "61    Jay\n",
              "62    Jay\n",
              "dtype: object"
            ]
          },
          "metadata": {},
          "execution_count": 166
        }
      ]
    },
    {
      "cell_type": "markdown",
      "source": [
        "Looks like they're all written by Jay, by KNN at least."
      ],
      "metadata": {
        "id": "RhZJJXAI-4jn"
      }
    },
    {
      "cell_type": "markdown",
      "metadata": {
        "id": "8Ng3BgkXBLUw"
      },
      "source": [
        "## Submission Instructions\n",
        "\n",
        "- Copy this notebook to your own Drive, if you have not already.\n",
        "- Restart this notebook and run the cells from beginning to end. \n",
        "  - Go to Runtime > Restart and Run All.\n",
        "- Rename this notebook by clicking on \"DATA 301 Lab 5 - YOUR NAMES HERE\" at the very top of this page. Replace \"YOUR NAMES HERE\" with the first and last names of you (and your partners, for Phase 2).\n",
        "- Get the link to your notebook:\n",
        "  - Click on \"Share\" at the top-right. \n",
        "  - Change the settings to \"Anyone with the link can view\". \n",
        "  - Copy the sharing link into Canvas."
      ]
    }
  ]
}